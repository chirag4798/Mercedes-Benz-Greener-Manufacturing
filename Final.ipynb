{
  "nbformat": 4,
  "nbformat_minor": 0,
  "metadata": {
    "colab": {
      "name": "Final.ipynb",
      "provenance": [],
      "collapsed_sections": []
    },
    "kernelspec": {
      "display_name": "personal",
      "language": "python",
      "name": "personal"
    },
    "language_info": {
      "codemirror_mode": {
        "name": "ipython",
        "version": 3
      },
      "file_extension": ".py",
      "mimetype": "text/x-python",
      "name": "python",
      "nbconvert_exporter": "python",
      "pygments_lexer": "ipython3",
      "version": "3.7.6"
    }
  },
  "cells": [
    {
      "cell_type": "code",
      "metadata": {
        "id": "WyERtJrBTzzG"
      },
      "source": [
        "# !pip install category-encoders\n",
        "# !unzip pickle_objects.zip\n",
        "# !unzip mercedes-benz-greener-manufacturing.zip\n",
        "# !unzip train.csv.zip\n",
        "# !unzip test.csv.zip"
      ],
      "execution_count": 1,
      "outputs": []
    },
    {
      "cell_type": "code",
      "metadata": {
        "id": "0lhJWCIgTswB"
      },
      "source": [
        "import os, pickle\n",
        "import pandas as pd\n",
        "import numpy as np\n",
        "import category_encoders as ce\n",
        "from xgboost import XGBRegressor\n",
        "from sklearn.metrics import r2_score, make_scorer\n",
        "from sklearn.preprocessing import StandardScaler\n",
        "from sklearn.ensemble import RandomForestRegressor, StackingRegressor, GradientBoostingRegressor\n",
        "from sklearn.linear_model import SGDRegressor, RidgeCV\n",
        "from sklearn.random_projection import GaussianRandomProjection, SparseRandomProjection\n",
        "from sklearn.decomposition import PCA, FastICA, TruncatedSVD\n",
        "import constants"
      ],
      "execution_count": null,
      "outputs": []
    },
    {
      "cell_type": "code",
      "metadata": {
        "id": "rb3_tokvdlS_"
      },
      "source": [
        "class Submission:\n",
        "    def __init__(self):\n",
        "        self.categorical_columns = constants.categorical_columns\n",
        "        self.binary_columns = constants.binary_columns\n",
        "        self.final_features = constants.final_features\n",
        "        self.n_comp = constants.n_comp\n",
        "        self.pickle_objects_path = constants.pickle_objects_path\n",
        "        self.pickle_objects = dict()\n",
        "        for pickle_object in constants.pickle_objects:\n",
        "            with open(os.path.join(self.pickle_objects_path, pickle_object+\".pkl\"), \"rb\") as f:\n",
        "                self.pickle_objects[pickle_object] = pickle.load(f)\n",
        "\n",
        "    def preprocess_data(self, file_path):\n",
        "        dataframe = pd.read_csv(file_path)\n",
        "        dataframe[\"X314 + X315\"] = dataframe[\"X314\"] + dataframe[\"X315\"]\n",
        "        ids = dataframe[\"ID\"]\n",
        "        X = dataframe[self.categorical_columns + self.binary_columns]\n",
        "        X = self.pickle_objects[\"target_encoder\"].transform(X)\n",
        "        X = pd.DataFrame(self.pickle_objects[\"scaler\"].transform(X), columns = self.categorical_columns + self.binary_columns)\n",
        "        # Projections\n",
        "        pca2_results = self.pickle_objects[\"pca\"].transform(X)\n",
        "        ica2_results = self.pickle_objects[\"ica\"].transform(X)\n",
        "        tsvd_results = self.pickle_objects[\"tsvd\"].transform(X)\n",
        "        grp_results = self.pickle_objects[\"grp\"].transform(X)\n",
        "        srp_results = self.pickle_objects[\"srp\"].transform(X)\n",
        "        # Append decomposition components to datasets\n",
        "        for i in range(1, self.n_comp + 1):\n",
        "            X['pca_' + str(i)] = pca2_results[:, i - 1]\n",
        "            X['ica_' + str(i)] = ica2_results[:, i - 1]\n",
        "            X['tsvd_' + str(i)] = tsvd_results[:, i - 1]\n",
        "            X['grp_' + str(i)] = grp_results[:, i - 1]\n",
        "            X['srp_' + str(i)] = srp_results[:, i - 1]\n",
        "        X = X.values\n",
        "        if \"y\" in dataframe.columns:\n",
        "            y = dataframe[\"y\"].values\n",
        "            return X, y\n",
        "        else:\n",
        "            return X\n",
        "\n",
        "    def metric_pipeline(self, file_path):\n",
        "        if \"y\" not in pd.read_csv(file_path).columns:\n",
        "            raise Exception(\"No target variable found to compute R2-score\")\n",
        "        else:\n",
        "            X, y = self.preprocess_data(file_path)\n",
        "            y_pred = np.exp(self.pickle_objects[\"model\"].predict(X))\n",
        "            score  = r2_score(y, y_pred)\n",
        "            return score\n",
        "\n",
        "    def inference_pipeline(self, file_path):\n",
        "        if \"y\" not in pd.read_csv(file_path).columns:\n",
        "            X = self.preprocess_data(file_path)\n",
        "        else:\n",
        "            X, _ = self.preprocess_data(file_path)\n",
        "        ids = pd.read_csv(file_path)[\"ID\"].values\n",
        "        y_pred = np.exp(self.pickle_objects[\"model\"].predict(X))\n",
        "        submission = pd.DataFrame()\n",
        "        submission[\"ID\"] = ids\n",
        "        submission[\"y\"] = y_pred\n",
        "        return submission"
      ],
      "execution_count": 3,
      "outputs": []
    },
    {
      "cell_type": "code",
      "metadata": {
        "colab": {
          "base_uri": "https://localhost:8080/"
        },
        "id": "mc_8FeY4OM0w",
        "outputId": "a035d64c-08eb-46b9-a7ec-dcbfb8074d1c"
      },
      "source": [
        "submission = Submission()\n",
        "R2_score = submission.metric_pipeline(\"train.csv\")\n",
        "print(\"Train R2-score:\\t\", R2_score)"
      ],
      "execution_count": 4,
      "outputs": [
        {
          "output_type": "stream",
          "text": [
            "Train R2-score:\t 0.5903056235376779\n"
          ],
          "name": "stdout"
        }
      ]
    },
    {
      "cell_type": "code",
      "metadata": {
        "colab": {
          "base_uri": "https://localhost:8080/",
          "height": 195
        },
        "id": "yZe_8vOAOM0y",
        "outputId": "8ea08406-671d-49f8-f352-7af65bb3af1e"
      },
      "source": [
        "submission = Submission()\r\n",
        "test_submission = submission.inference_pipeline(\"test.csv\")\r\n",
        "test_submission.head()"
      ],
      "execution_count": 5,
      "outputs": [
        {
          "output_type": "execute_result",
          "data": {
            "text/html": [
              "<div>\n",
              "<style scoped>\n",
              "    .dataframe tbody tr th:only-of-type {\n",
              "        vertical-align: middle;\n",
              "    }\n",
              "\n",
              "    .dataframe tbody tr th {\n",
              "        vertical-align: top;\n",
              "    }\n",
              "\n",
              "    .dataframe thead th {\n",
              "        text-align: right;\n",
              "    }\n",
              "</style>\n",
              "<table border=\"1\" class=\"dataframe\">\n",
              "  <thead>\n",
              "    <tr style=\"text-align: right;\">\n",
              "      <th></th>\n",
              "      <th>ID</th>\n",
              "      <th>y</th>\n",
              "    </tr>\n",
              "  </thead>\n",
              "  <tbody>\n",
              "    <tr>\n",
              "      <th>0</th>\n",
              "      <td>1</td>\n",
              "      <td>77.519561</td>\n",
              "    </tr>\n",
              "    <tr>\n",
              "      <th>1</th>\n",
              "      <td>2</td>\n",
              "      <td>94.290620</td>\n",
              "    </tr>\n",
              "    <tr>\n",
              "      <th>2</th>\n",
              "      <td>3</td>\n",
              "      <td>77.788318</td>\n",
              "    </tr>\n",
              "    <tr>\n",
              "      <th>3</th>\n",
              "      <td>4</td>\n",
              "      <td>77.406914</td>\n",
              "    </tr>\n",
              "    <tr>\n",
              "      <th>4</th>\n",
              "      <td>5</td>\n",
              "      <td>112.470019</td>\n",
              "    </tr>\n",
              "  </tbody>\n",
              "</table>\n",
              "</div>"
            ],
            "text/plain": [
              "   ID           y\n",
              "0   1   77.519561\n",
              "1   2   94.290620\n",
              "2   3   77.788318\n",
              "3   4   77.406914\n",
              "4   5  112.470019"
            ]
          },
          "metadata": {
            "tags": []
          },
          "execution_count": 5
        }
      ]
    }
  ]
}